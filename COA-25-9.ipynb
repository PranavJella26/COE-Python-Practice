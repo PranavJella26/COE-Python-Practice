{
 "cells": [
  {
   "cell_type": "code",
   "execution_count": 12,
   "id": "74375d9e-f163-4c71-ac5a-4aa0b435c21a",
   "metadata": {},
   "outputs": [
    {
     "name": "stdout",
     "output_type": "stream",
     "text": [
      "[23, 45, 99, 20]\n",
      "[23, 45, 99, 20]\n"
     ]
    }
   ],
   "source": [
    "#sort by there index\n",
    "def sort_even_odd_index(a):\n",
    "    odd_list = []\n",
    "    even_list = []\n",
    "    for i in range(len(a)):\n",
    "        if i %2 == 0:\n",
    "            even_list.append(a[i])\n",
    "            odd_list.append(a[i])\n",
    "    return even_list,odd_list\n",
    "\n",
    "a = [23,24,45,67,99,54,20]\n",
    "even_list,odd_list = sort_even_odd_index(a)\n",
    "print(even_list)\n",
    "print(odd_list)"
   ]
  },
  {
   "cell_type": "code",
   "execution_count": 19,
   "id": "c612030a-21d8-4481-85b3-3515d9e7f14a",
   "metadata": {},
   "outputs": [
    {
     "name": "stdout",
     "output_type": "stream",
     "text": [
      "150\n",
      "310\n"
     ]
    }
   ],
   "source": [
    "def sum_odd_even(a):\n",
    "    sum_even = 0\n",
    "    sum_odd = 0\n",
    "    for i in a:\n",
    "        if i %2 == 0:\n",
    "            sum_even += i\n",
    "        else:\n",
    "            sum_odd += i\n",
    "    return sum_even,sum_odd\n",
    "        \n",
    "a = [20,35,45,30,60,75,85,45,25,40]\n",
    "sum_even,sum_odd = sum_odd_even(a)\n",
    "print(sum_even)\n",
    "print(sum_odd)"
   ]
  },
  {
   "cell_type": "code",
   "execution_count": 20,
   "id": "cd7d2ed8-bdd4-4a41-ad2c-0335979c0ea4",
   "metadata": {},
   "outputs": [
    {
     "name": "stdout",
     "output_type": "stream",
     "text": [
      "16\n",
      "29\n"
     ]
    }
   ],
   "source": [
    "#add the even number indexs and odd number indexes \n",
    "def even_odd_index(a):\n",
    "    sum_even = 0\n",
    "    sum_odd = 0\n",
    "    for i in range(len(a)):\n",
    "        if a[i] %2 == 0:\n",
    "            sum_even += i\n",
    "        else:\n",
    "            sum_odd += i\n",
    "    return sum_even,sum_odd\n",
    "a = [20,35,45,30,60,75,85,45,25,40]\n",
    "sum_even,sum_odd = even_odd_index(a)\n",
    "print(sum_even)\n",
    "print(sum_odd)"
   ]
  },
  {
   "cell_type": "code",
   "execution_count": 21,
   "id": "322f9cd6-39c0-4dac-8104-b4f70663b984",
   "metadata": {},
   "outputs": [
    {
     "name": "stdout",
     "output_type": "stream",
     "text": [
      "['Dinesh', 'delhi', 'Dubai', 'Dadar', 'Danish']\n"
     ]
    }
   ],
   "source": [
    "#take the only \"D\" letters \n",
    "def take_only_d(a):\n",
    "    f = []\n",
    "    for i in range(len(a)):\n",
    "        if(a[i][0] in \"Dd\"):\n",
    "            f.append(a[i])\n",
    "    return f\n",
    "a =[\"pranav\",\"vani\",\"chikky\",\"Dinesh\",\"Akhil\",\"Jay\",\"kittu\",\"Karthik\",\"Mumbai\",\"Hyd\",\"delhi\",\"Dubai\",\"Jaiput\",\"kolkata\",\"chennai\",\"Dadar\",\"Danish\"]\n",
    "f = take_only_d(a)\n",
    "print(f)"
   ]
  },
  {
   "cell_type": "code",
   "execution_count": 22,
   "id": "e0d8f59d-bb41-4ed3-9fb1-ed074d4d0c91",
   "metadata": {},
   "outputs": [
    {
     "name": "stdout",
     "output_type": "stream",
     "text": [
      "{'pranav': 90, 'vani': 80, 'chikky': 70, 'Dinesh': 60, 'Akhil': 45, 'Jay': 45, 'kittu': 46, 'Karthik': 67, 'Mumbai': 78, 'Hyd': 78, 'delhi': 67, 'Dubai': 56, 'Jaiput': 45, 'kolkata': 78, 'chennai': 45, 'Dadar': 34, 'Danish': 99}\n"
     ]
    }
   ],
   "source": [
    "def c_dic(key,value):\n",
    "    c = {}\n",
    "    for i in range(len(key)):\n",
    "        c[key[i]] = value[i]\n",
    "    return c\n",
    "key =[\"pranav\",\"vani\",\"chikky\",\"Dinesh\",\"Akhil\",\"Jay\",\"kittu\",\"Karthik\",\"Mumbai\",\"Hyd\",\"delhi\",\"Dubai\",\"Jaiput\",\"kolkata\",\"chennai\",\"Dadar\",\"Danish\"]\n",
    "value = [90,80,70,60,45,45,46,67,78,78,67,56,45,78,45,34,99]\n",
    "c = c_dic(key,value)\n",
    "print(c)"
   ]
  },
  {
   "cell_type": "code",
   "execution_count": 24,
   "id": "39756ec4-7c70-45f7-b675-babbf6389da7",
   "metadata": {},
   "outputs": [
    {
     "name": "stdout",
     "output_type": "stream",
     "text": [
      "{'pranav': 90, 'vani': 80, 'chikky': 70, 'Akhil': 45, 'kittu': 46, 'Karthik': 67, 'Hyd': 78, 'delhi': 67, 'Dubai': 56, 'Jaiput': 45, 'kolkata': 78, 'chennai': 45, 'Dadar': 34, 'Danish': 99}\n"
     ]
    }
   ],
   "source": [
    "def less_100(key,value):\n",
    "    c = {}\n",
    "    for i in range(len(key)):\n",
    "        c[key[i]] = value[i]\n",
    "    f = {}\n",
    "    for key, value in c.items():\n",
    "        if value < 100:\n",
    "            f[key] = value\n",
    "    return f\n",
    "key =[\"pranav\",\"vani\",\"chikky\",\"Dinesh\",\"Akhil\",\"Jay\",\"kittu\",\"Karthik\",\"Mumbai\",\"Hyd\",\"delhi\",\"Dubai\",\"Jaiput\",\"kolkata\",\"chennai\",\"Dadar\",\"Danish\"]\n",
    "value = [90,80,70,160,45,145,46,67,178,78,67,56,45,78,45,34,99]\n",
    "f = less_100(key,value)\n",
    "print(f)"
   ]
  },
  {
   "cell_type": "code",
   "execution_count": 27,
   "id": "dde98d8b-03dd-4e3b-9f4e-4fcb879b023c",
   "metadata": {},
   "outputs": [
    {
     "name": "stdout",
     "output_type": "stream",
     "text": [
      "3\n",
      "6\n"
     ]
    }
   ],
   "source": [
    "def vowels_in_not(a):\n",
    "    count = 0\n",
    "    non_count = 0\n",
    "    for i in range(len(a)):\n",
    "        if a[i] in \"aeiou\":\n",
    "            count += 1\n",
    "    for i in range(len(a)):\n",
    "        if a[i] not in \"aeiou\":\n",
    "            non_count += 1\n",
    "    return count,non_count\n",
    "b = \"hyderabad\"\n",
    "a = b.lower()\n",
    "count,non_count = vowels_in_not(a)\n",
    "print(count)\n",
    "print(non_count)"
   ]
  },
  {
   "cell_type": "code",
   "execution_count": 11,
   "id": "b80703d3-7ada-41b6-b2f2-56da2afb1740",
   "metadata": {},
   "outputs": [
    {
     "name": "stdout",
     "output_type": "stream",
     "text": [
      "3\n"
     ]
    }
   ],
   "source": [
    "#Vowels\n",
    "def non_vowels(a):\n",
    "    count = 0\n",
    "    for i in range(0,len(a)):\n",
    "        if a[i] in \"aeiou\":\n",
    "            count += 1\n",
    "    return count\n",
    "n = \"Hyderabad\"\n",
    "a = n.lower()\n",
    "count = non_vowels(a)\n",
    "print(count)"
   ]
  },
  {
   "cell_type": "code",
   "execution_count": 10,
   "id": "1974b987-e492-479e-990e-aaa36d1dc218",
   "metadata": {},
   "outputs": [
    {
     "name": "stdout",
     "output_type": "stream",
     "text": [
      "6\n"
     ]
    }
   ],
   "source": [
    "#Non-Vowels\n",
    "def non_vowels(a):\n",
    "    count = 0\n",
    "    for i in range(0,len(a)):\n",
    "        if a[i] not in \"aeiou\":\n",
    "            count += 1\n",
    "    return count\n",
    "n = \"Hyderabad\"\n",
    "a = n.lower()\n",
    "count = non_vowels(a)\n",
    "print(count)"
   ]
  },
  {
   "cell_type": "code",
   "execution_count": 5,
   "id": "2e97ff3d-a6bb-438a-a69d-277de5b67221",
   "metadata": {},
   "outputs": [
    {
     "name": "stdout",
     "output_type": "stream",
     "text": [
      "[30, 40, 66, 50, 76]\n"
     ]
    }
   ],
   "source": [
    "#list table 5 \n",
    "\n",
    "def table_five(a):\n",
    "    c = []\n",
    "    for i in range(len(a)):\n",
    "        if a[i] % 5 == 0:\n",
    "            d = (a[i] - 5)\n",
    "            c.append(d)\n",
    "        else:\n",
    "            c.append(a[i])\n",
    "    return c\n",
    "a = [35,45,66,55,76]\n",
    "c = table_five(a)\n",
    "print(c)\n"
   ]
  },
  {
   "cell_type": "code",
   "execution_count": null,
   "id": "1a21e91b-7b55-4369-8fbd-2decb622aa56",
   "metadata": {},
   "outputs": [],
   "source": []
  }
 ],
 "metadata": {
  "kernelspec": {
   "display_name": "Python [conda env:base] *",
   "language": "python",
   "name": "conda-base-py"
  },
  "language_info": {
   "codemirror_mode": {
    "name": "ipython",
    "version": 3
   },
   "file_extension": ".py",
   "mimetype": "text/x-python",
   "name": "python",
   "nbconvert_exporter": "python",
   "pygments_lexer": "ipython3",
   "version": "3.13.5"
  }
 },
 "nbformat": 4,
 "nbformat_minor": 5
}
